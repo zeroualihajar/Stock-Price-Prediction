{
 "cells": [
  {
   "cell_type": "markdown",
   "metadata": {},
   "source": [
    "<div style=\"display:flex; justify-content:column;  text-align:center;\">\n",
    "    <img style=\"width:90px; height:130px; margin-top:30px;\" src=\"fs.png\" />\n",
    "    <h1 style=\"width:500px; font-size:34px; font-weight:400px; font-family:Serif; \">Faculté des Sciences et Techniques de Tanger Département Génie Informatique</h1>\n",
    "    <img style=\"width:90px; height:130px; margin-top:30px;\" src=\"fst.jpg\" />\n",
    "</div>"
   ]
  },
  {
   "cell_type": "markdown",
   "metadata": {},
   "source": [
    "<div style=\"margin-top:60px\">\n",
    "    <h1 style=\"color:#3498db; font-size:30px; text-align : center\">Mini-projet</h1>\n",
    "    <h1 style=\"color:##f39c12; font-size:30px; text-align : center\">Réseaux de neurones artificiels</h1>\n",
    "</div>"
   ]
  },
  {
   "cell_type": "markdown",
   "metadata": {},
   "source": [
    "<img style=\"width:550px; height:350px; margin-top:25px; \" src=\"img2.png\"/>"
   ]
  },
  {
   "cell_type": "markdown",
   "metadata": {},
   "source": [
    "<div style=\"display:flex; justify-content:column;  text-align:center; margin-top:20px; margin-bottom:20px;\">\n",
    "    <div style=\"margin-right:550px; margin-left:70px\">\n",
    "        <h3 style=\"color:#3498db;\">Encadré par : </h3>\n",
    "        <h4>Mr.AIT KBIR</h4>\n",
    "    </div>\n",
    "    <div >\n",
    "        <h3 style=\"color:#3498db;\">Réalisé par : </h3>\n",
    "        <h4>ZEROUALI Hajar</h4>\n",
    "        <h4>CHERKAOUI Rabab</h4>\n",
    "        <h4>GHARBI Hafsa</h4>\n",
    "    </div>    \n",
    "</div>   "
   ]
  },
  {
   "cell_type": "markdown",
   "metadata": {},
   "source": [
    "<div>\n",
    "    <h2 style=\"font-family:Serif; color:##f39c12; font-size:27px; margin-bottom:0\">Introduction : </h2>\n",
    "        <p  style=\"font-family:Serif; font-size:17px;\">Depuis le début de la décennie 1990, les réseaux de neurones artificiels habituellement utilisés en physique appliquée font leur entrée dans les sciences de gestion en tant que méthode quantitative de prévision, à côté des méthodes statistiques classiques. Et la finance n’échappe pas à l’emploi de ce type de méthodes ou techniques modernes. Le réseau de neurones est utilisé à des fins de prévision, de classification et de reconnaissance de forme en général, pour ceci nous allons l’implémenter sur un problème de prédiction qui est « La prédiction du mouvement des prix dans l'indice S&P 500</p>\n",
    "</div>"
   ]
  },
  {
   "cell_type": "markdown",
   "metadata": {},
   "source": [
    "<div>\n",
    "    <h2 style=\"font-family:Serif; color:##f39c12; font-size:27px; margin-bottom:0\">But : </h2>\n",
    "        <p  style=\"font-family:Serif; font-size:17px;\">Développer une application pour implémenter les solutions apportées par les modèles\n",
    "        de réseaux de neurones artificiels au problème de prédiction du mouvement des prix dans l'indice S&P 500.</p>\n",
    "</div>"
   ]
  },
  {
   "cell_type": "markdown",
   "metadata": {},
   "source": [
    "<div>\n",
    "    <h2 style=\"font-family:Serif; color:#f39c12; font-size:27px; margin-bottom:0\">Problème 1 : </h2>\n",
    "        <p style=\"font-family:Serif; font-size:17px;\">Problème de prédiction du mouvement des prix dans l'indice S&P 500, à partir des valeurs\n",
    "antérieures de l’indice. Le S&P 500 est un indice boursier basé sur 500 grandes sociétés cotées\n",
    "sur les bourses américaines. L'indice est possédé et géré par Standard & Poor's, l'une des trois\n",
    "principales sociétés de notation financière du marché boursier américain. Lien de récupération\n",
    "des données : \n",
    "    <a style=\"color:blue;\" href=\"https://finance.yahoo.com/quote/%5EGSPC/history?p=%5EGSPC\">https://finance.yahoo.com/quote/%5EGSPC/history?p=%5EGSPC</a></p>\n",
    "</div>"
   ]
  },
  {
   "cell_type": "markdown",
   "metadata": {},
   "source": [
    "<div>\n",
    "    <h2 style=\"font-family:Serif; color:##f39c12; font-size:27px; margin-bottom:0\">1 - L'importation des données </h2>\n",
    "        <p  style=\"font-family:Serif; font-size:17px;\">Dans un premier temps on importe les bibliothèques dont on aura besoin :</p>\n",
    "</div>"
   ]
  },
  {
   "cell_type": "code",
   "execution_count": 1,
   "metadata": {},
   "outputs": [],
   "source": [
    "from pandas_datareader import data as pdr\n",
    "from datetime import date\n",
    "import numpy as np\n",
    "# Import sklearn \n",
    "from sklearn.preprocessing import LabelBinarizer\n",
    "from sklearn.model_selection import train_test_split\n",
    "from sklearn.metrics import classification_report\n",
    "import seaborn as sns  # Bibliothèque pour la visualisation des données\n",
    "import time\n",
    "from sklearn.preprocessing import MinMaxScaler\n",
    "import matplotlib.pyplot as plt\n",
    "\n",
    "import pandas as pd\n",
    "from matplotlib.pylab import rcParams"
   ]
  },
  {
   "cell_type": "markdown",
   "metadata": {},
   "source": [
    "<div>\n",
    "        <p  style=\"font-family:Serif; font-size:17px;\">On utilise la bibliothèque <b>pandas_datareader</b> pour récupérer les données, puis on les enregitres dans un fichier csv : <b>\" S&P5000.csv\"</b> </p>\n",
    "</div>"
   ]
  },
  {
   "cell_type": "code",
   "execution_count": 2,
   "metadata": {},
   "outputs": [
    {
     "data": {
      "text/html": [
       "<div>\n",
       "<style scoped>\n",
       "    .dataframe tbody tr th:only-of-type {\n",
       "        vertical-align: middle;\n",
       "    }\n",
       "\n",
       "    .dataframe tbody tr th {\n",
       "        vertical-align: top;\n",
       "    }\n",
       "\n",
       "    .dataframe thead th {\n",
       "        text-align: right;\n",
       "    }\n",
       "</style>\n",
       "<table border=\"1\" class=\"dataframe\">\n",
       "  <thead>\n",
       "    <tr style=\"text-align: right;\">\n",
       "      <th></th>\n",
       "      <th>High</th>\n",
       "      <th>Low</th>\n",
       "      <th>Open</th>\n",
       "      <th>Close</th>\n",
       "      <th>Volume</th>\n",
       "      <th>Adj Close</th>\n",
       "    </tr>\n",
       "    <tr>\n",
       "      <th>Date</th>\n",
       "      <th></th>\n",
       "      <th></th>\n",
       "      <th></th>\n",
       "      <th></th>\n",
       "      <th></th>\n",
       "      <th></th>\n",
       "    </tr>\n",
       "  </thead>\n",
       "  <tbody>\n",
       "    <tr>\n",
       "      <th>2005-01-03</th>\n",
       "      <td>1217.800049</td>\n",
       "      <td>1200.319946</td>\n",
       "      <td>1211.920044</td>\n",
       "      <td>1202.079956</td>\n",
       "      <td>1510800000</td>\n",
       "      <td>1202.079956</td>\n",
       "    </tr>\n",
       "    <tr>\n",
       "      <th>2005-01-04</th>\n",
       "      <td>1205.839966</td>\n",
       "      <td>1185.390015</td>\n",
       "      <td>1202.079956</td>\n",
       "      <td>1188.050049</td>\n",
       "      <td>1721000000</td>\n",
       "      <td>1188.050049</td>\n",
       "    </tr>\n",
       "    <tr>\n",
       "      <th>2005-01-05</th>\n",
       "      <td>1192.729980</td>\n",
       "      <td>1183.719971</td>\n",
       "      <td>1188.050049</td>\n",
       "      <td>1183.739990</td>\n",
       "      <td>1738900000</td>\n",
       "      <td>1183.739990</td>\n",
       "    </tr>\n",
       "    <tr>\n",
       "      <th>2005-01-06</th>\n",
       "      <td>1191.630005</td>\n",
       "      <td>1183.270020</td>\n",
       "      <td>1183.739990</td>\n",
       "      <td>1187.890015</td>\n",
       "      <td>1569100000</td>\n",
       "      <td>1187.890015</td>\n",
       "    </tr>\n",
       "    <tr>\n",
       "      <th>2005-01-07</th>\n",
       "      <td>1192.199951</td>\n",
       "      <td>1182.160034</td>\n",
       "      <td>1187.890015</td>\n",
       "      <td>1186.189941</td>\n",
       "      <td>1477900000</td>\n",
       "      <td>1186.189941</td>\n",
       "    </tr>\n",
       "    <tr>\n",
       "      <th>...</th>\n",
       "      <td>...</td>\n",
       "      <td>...</td>\n",
       "      <td>...</td>\n",
       "      <td>...</td>\n",
       "      <td>...</td>\n",
       "      <td>...</td>\n",
       "    </tr>\n",
       "    <tr>\n",
       "      <th>2009-12-24</th>\n",
       "      <td>1126.479980</td>\n",
       "      <td>1121.079956</td>\n",
       "      <td>1121.079956</td>\n",
       "      <td>1126.479980</td>\n",
       "      <td>1267710000</td>\n",
       "      <td>1126.479980</td>\n",
       "    </tr>\n",
       "    <tr>\n",
       "      <th>2009-12-28</th>\n",
       "      <td>1130.380005</td>\n",
       "      <td>1123.510010</td>\n",
       "      <td>1127.530029</td>\n",
       "      <td>1127.780029</td>\n",
       "      <td>2716400000</td>\n",
       "      <td>1127.780029</td>\n",
       "    </tr>\n",
       "    <tr>\n",
       "      <th>2009-12-29</th>\n",
       "      <td>1130.380005</td>\n",
       "      <td>1126.079956</td>\n",
       "      <td>1128.550049</td>\n",
       "      <td>1126.199951</td>\n",
       "      <td>2491020000</td>\n",
       "      <td>1126.199951</td>\n",
       "    </tr>\n",
       "    <tr>\n",
       "      <th>2009-12-30</th>\n",
       "      <td>1126.420044</td>\n",
       "      <td>1121.939941</td>\n",
       "      <td>1125.530029</td>\n",
       "      <td>1126.420044</td>\n",
       "      <td>2277300000</td>\n",
       "      <td>1126.420044</td>\n",
       "    </tr>\n",
       "    <tr>\n",
       "      <th>2009-12-31</th>\n",
       "      <td>1127.640015</td>\n",
       "      <td>1114.810059</td>\n",
       "      <td>1126.599976</td>\n",
       "      <td>1115.099976</td>\n",
       "      <td>2076990000</td>\n",
       "      <td>1115.099976</td>\n",
       "    </tr>\n",
       "  </tbody>\n",
       "</table>\n",
       "<p>1259 rows × 6 columns</p>\n",
       "</div>"
      ],
      "text/plain": [
       "                   High          Low         Open        Close      Volume  \\\n",
       "Date                                                                         \n",
       "2005-01-03  1217.800049  1200.319946  1211.920044  1202.079956  1510800000   \n",
       "2005-01-04  1205.839966  1185.390015  1202.079956  1188.050049  1721000000   \n",
       "2005-01-05  1192.729980  1183.719971  1188.050049  1183.739990  1738900000   \n",
       "2005-01-06  1191.630005  1183.270020  1183.739990  1187.890015  1569100000   \n",
       "2005-01-07  1192.199951  1182.160034  1187.890015  1186.189941  1477900000   \n",
       "...                 ...          ...          ...          ...         ...   \n",
       "2009-12-24  1126.479980  1121.079956  1121.079956  1126.479980  1267710000   \n",
       "2009-12-28  1130.380005  1123.510010  1127.530029  1127.780029  2716400000   \n",
       "2009-12-29  1130.380005  1126.079956  1128.550049  1126.199951  2491020000   \n",
       "2009-12-30  1126.420044  1121.939941  1125.530029  1126.420044  2277300000   \n",
       "2009-12-31  1127.640015  1114.810059  1126.599976  1115.099976  2076990000   \n",
       "\n",
       "              Adj Close  \n",
       "Date                     \n",
       "2005-01-03  1202.079956  \n",
       "2005-01-04  1188.050049  \n",
       "2005-01-05  1183.739990  \n",
       "2005-01-06  1187.890015  \n",
       "2005-01-07  1186.189941  \n",
       "...                 ...  \n",
       "2009-12-24  1126.479980  \n",
       "2009-12-28  1127.780029  \n",
       "2009-12-29  1126.199951  \n",
       "2009-12-30  1126.420044  \n",
       "2009-12-31  1115.099976  \n",
       "\n",
       "[1259 rows x 6 columns]"
      ]
     },
     "execution_count": 2,
     "metadata": {},
     "output_type": "execute_result"
    }
   ],
   "source": [
    "#Date de début \n",
    "debut = date(2005,1,1)\n",
    "#Date de fin\n",
    "fin = date(2010,1,1)\n",
    "#Récupération des données\n",
    "dataSet = pdr.DataReader('^GSPC','yahoo', debut, fin)\n",
    "#Enregistrement des données\n",
    "dataSet.to_csv('./S&P5000' + '.csv')\n",
    "#Affichage\n",
    "dataSet"
   ]
  },
  {
   "cell_type": "code",
   "execution_count": 3,
   "metadata": {},
   "outputs": [
    {
     "name": "stdout",
     "output_type": "stream",
     "text": [
      "(1259,)\n"
     ]
    }
   ],
   "source": [
    "#Affichage des dimentions du tableau\n",
    "print(dataSet[\"Close\"].shape)"
   ]
  },
  {
   "cell_type": "markdown",
   "metadata": {},
   "source": [
    "<div>\n",
    "        <p  style=\"font-family:Serif; font-size:17px;\">On met une copie des données : </p>\n",
    "</div>"
   ]
  },
  {
   "cell_type": "code",
   "execution_count": 4,
   "metadata": {},
   "outputs": [],
   "source": [
    "copie = dataSet.copy()"
   ]
  },
  {
   "cell_type": "markdown",
   "metadata": {},
   "source": [
    "<div>\n",
    "        <p  style=\"font-family:Serif; font-size:17px;\">On visualise les données selon le prix et la date : </p>\n",
    "</div>"
   ]
  },
  {
   "cell_type": "code",
   "execution_count": 5,
   "metadata": {},
   "outputs": [
    {
     "data": {
      "text/plain": [
       "Text(0.5, 1.0, 'Low & High')"
      ]
     },
     "execution_count": 5,
     "metadata": {},
     "output_type": "execute_result"
    },
    {
     "data": {
      "image/png": "[encoded data removed]",
      "text/plain": [
       "<Figure size 1440x360 with 2 Axes>"
      ]
     },
     "metadata": {
      "needs_background": "light"
     },
     "output_type": "display_data"
    }
   ],
   "source": [
    "# visualisation des données dans le graphe\n",
    "f, (ax1, ax2) = plt.subplots(1, 2, figsize=(20,5))\n",
    "\n",
    "ax1.plot(dataSet['Close'], color=\"blue\")\n",
    "ax1.plot(dataSet[\"Open\"], color=\"orange\")\n",
    "\n",
    "ax1.set_xlabel(\"Date\", fontsize=10)\n",
    "ax1.set_ylabel(\"Price\")\n",
    "ax1.set_title(\"Close & Open\")\n",
    "\n",
    "ax2.plot(dataSet[\"Low\"], color=\"red\")\n",
    "ax2.plot(dataSet[\"High\"], color=\"green\")\n",
    "\n",
    "ax2.set_xlabel(\"Date\", fontsize=10)\n",
    "ax2.set_ylabel(\"Price\")\n",
    "ax2.set_title(\"Low & High\")"
   ]
  },
  {
   "cell_type": "markdown",
   "metadata": {},
   "source": [
    "<div>\n",
    "        <p  style=\"font-family:Serif; font-size:17px;\">On réinitialise les index : </p>\n",
    "</div>"
   ]
  },
  {
   "cell_type": "code",
   "execution_count": 6,
   "metadata": {},
   "outputs": [
    {
     "data": {
      "text/html": [
       "<div>\n",
       "<style scoped>\n",
       "    .dataframe tbody tr th:only-of-type {\n",
       "        vertical-align: middle;\n",
       "    }\n",
       "\n",
       "    .dataframe tbody tr th {\n",
       "        vertical-align: top;\n",
       "    }\n",
       "\n",
       "    .dataframe thead th {\n",
       "        text-align: right;\n",
       "    }\n",
       "</style>\n",
       "<table border=\"1\" class=\"dataframe\">\n",
       "  <thead>\n",
       "    <tr style=\"text-align: right;\">\n",
       "      <th></th>\n",
       "      <th>Date</th>\n",
       "      <th>High</th>\n",
       "      <th>Low</th>\n",
       "      <th>Open</th>\n",
       "      <th>Volume</th>\n",
       "      <th>Adj Close</th>\n",
       "      <th>Close</th>\n",
       "    </tr>\n",
       "  </thead>\n",
       "  <tbody>\n",
       "    <tr>\n",
       "      <th>0</th>\n",
       "      <td>2005-01-03</td>\n",
       "      <td>1217.800049</td>\n",
       "      <td>1200.319946</td>\n",
       "      <td>1211.920044</td>\n",
       "      <td>1510800000</td>\n",
       "      <td>1202.079956</td>\n",
       "      <td>1202.079956</td>\n",
       "    </tr>\n",
       "    <tr>\n",
       "      <th>1</th>\n",
       "      <td>2005-01-04</td>\n",
       "      <td>1205.839966</td>\n",
       "      <td>1185.390015</td>\n",
       "      <td>1202.079956</td>\n",
       "      <td>1721000000</td>\n",
       "      <td>1188.050049</td>\n",
       "      <td>1188.050049</td>\n",
       "    </tr>\n",
       "    <tr>\n",
       "      <th>2</th>\n",
       "      <td>2005-01-05</td>\n",
       "      <td>1192.729980</td>\n",
       "      <td>1183.719971</td>\n",
       "      <td>1188.050049</td>\n",
       "      <td>1738900000</td>\n",
       "      <td>1183.739990</td>\n",
       "      <td>1183.739990</td>\n",
       "    </tr>\n",
       "    <tr>\n",
       "      <th>3</th>\n",
       "      <td>2005-01-06</td>\n",
       "      <td>1191.630005</td>\n",
       "      <td>1183.270020</td>\n",
       "      <td>1183.739990</td>\n",
       "      <td>1569100000</td>\n",
       "      <td>1187.890015</td>\n",
       "      <td>1187.890015</td>\n",
       "    </tr>\n",
       "    <tr>\n",
       "      <th>4</th>\n",
       "      <td>2005-01-07</td>\n",
       "      <td>1192.199951</td>\n",
       "      <td>1182.160034</td>\n",
       "      <td>1187.890015</td>\n",
       "      <td>1477900000</td>\n",
       "      <td>1186.189941</td>\n",
       "      <td>1186.189941</td>\n",
       "    </tr>\n",
       "    <tr>\n",
       "      <th>...</th>\n",
       "      <td>...</td>\n",
       "      <td>...</td>\n",
       "      <td>...</td>\n",
       "      <td>...</td>\n",
       "      <td>...</td>\n",
       "      <td>...</td>\n",
       "      <td>...</td>\n",
       "    </tr>\n",
       "    <tr>\n",
       "      <th>1254</th>\n",
       "      <td>2009-12-24</td>\n",
       "      <td>1126.479980</td>\n",
       "      <td>1121.079956</td>\n",
       "      <td>1121.079956</td>\n",
       "      <td>1267710000</td>\n",
       "      <td>1126.479980</td>\n",
       "      <td>1126.479980</td>\n",
       "    </tr>\n",
       "    <tr>\n",
       "      <th>1255</th>\n",
       "      <td>2009-12-28</td>\n",
       "      <td>1130.380005</td>\n",
       "      <td>1123.510010</td>\n",
       "      <td>1127.530029</td>\n",
       "      <td>2716400000</td>\n",
       "      <td>1127.780029</td>\n",
       "      <td>1127.780029</td>\n",
       "    </tr>\n",
       "    <tr>\n",
       "      <th>1256</th>\n",
       "      <td>2009-12-29</td>\n",
       "      <td>1130.380005</td>\n",
       "      <td>1126.079956</td>\n",
       "      <td>1128.550049</td>\n",
       "      <td>2491020000</td>\n",
       "      <td>1126.199951</td>\n",
       "      <td>1126.199951</td>\n",
       "    </tr>\n",
       "    <tr>\n",
       "      <th>1257</th>\n",
       "      <td>2009-12-30</td>\n",
       "      <td>1126.420044</td>\n",
       "      <td>1121.939941</td>\n",
       "      <td>1125.530029</td>\n",
       "      <td>2277300000</td>\n",
       "      <td>1126.420044</td>\n",
       "      <td>1126.420044</td>\n",
       "    </tr>\n",
       "    <tr>\n",
       "      <th>1258</th>\n",
       "      <td>2009-12-31</td>\n",
       "      <td>1127.640015</td>\n",
       "      <td>1114.810059</td>\n",
       "      <td>1126.599976</td>\n",
       "      <td>2076990000</td>\n",
       "      <td>1115.099976</td>\n",
       "      <td>1115.099976</td>\n",
       "    </tr>\n",
       "  </tbody>\n",
       "</table>\n",
       "<p>1259 rows × 7 columns</p>\n",
       "</div>"
      ],
      "text/plain": [
       "           Date         High          Low         Open      Volume  \\\n",
       "0    2005-01-03  1217.800049  1200.319946  1211.920044  1510800000   \n",
       "1    2005-01-04  1205.839966  1185.390015  1202.079956  1721000000   \n",
       "2    2005-01-05  1192.729980  1183.719971  1188.050049  1738900000   \n",
       "3    2005-01-06  1191.630005  1183.270020  1183.739990  1569100000   \n",
       "4    2005-01-07  1192.199951  1182.160034  1187.890015  1477900000   \n",
       "...         ...          ...          ...          ...         ...   \n",
       "1254 2009-12-24  1126.479980  1121.079956  1121.079956  1267710000   \n",
       "1255 2009-12-28  1130.380005  1123.510010  1127.530029  2716400000   \n",
       "1256 2009-12-29  1130.380005  1126.079956  1128.550049  2491020000   \n",
       "1257 2009-12-30  1126.420044  1121.939941  1125.530029  2277300000   \n",
       "1258 2009-12-31  1127.640015  1114.810059  1126.599976  2076990000   \n",
       "\n",
       "        Adj Close        Close  \n",
       "0     1202.079956  1202.079956  \n",
       "1     1188.050049  1188.050049  \n",
       "2     1183.739990  1183.739990  \n",
       "3     1187.890015  1187.890015  \n",
       "4     1186.189941  1186.189941  \n",
       "...           ...          ...  \n",
       "1254  1126.479980  1126.479980  \n",
       "1255  1127.780029  1127.780029  \n",
       "1256  1126.199951  1126.199951  \n",
       "1257  1126.420044  1126.420044  \n",
       "1258  1115.099976  1115.099976  \n",
       "\n",
       "[1259 rows x 7 columns]"
      ]
     },
     "execution_count": 6,
     "metadata": {},
     "output_type": "execute_result"
    }
   ],
   "source": [
    "#Changement de l'ordre de la colonne \"Close\"\n",
    "dataSet = dataSet[['High', 'Low', 'Open', 'Volume', 'Adj Close', 'Close']]\n",
    "#Réinitialisation des index\n",
    "dataSet = dataSet.reset_index()\n",
    "dataSet"
   ]
  },
  {
   "cell_type": "markdown",
   "metadata": {},
   "source": [
    "<div>\n",
    "    <h2 style=\"font-family:Serif; color:##f39c12; font-size:27px; margin-bottom:0\">2 - L'entraînement des données </h2>\n",
    "        <p  style=\"font-family:Serif; font-size:17px;\">On utilise MinMaxScaler pour calibrer les données sur une plage de valeurs (entre 0 et 1)</p>\n",
    "</div>"
   ]
  },
  {
   "cell_type": "code",
   "execution_count": 7,
   "metadata": {},
   "outputs": [
    {
     "name": "stdout",
     "output_type": "stream",
     "text": [
      "(1259, 1)\n"
     ]
    }
   ],
   "source": [
    "# Normaliser data\n",
    "scaler = MinMaxScaler(feature_range=(0,1))\n",
    "scaled_data = scaler.fit_transform(dataSet['Close'].values.reshape(-1,1))\n",
    "\n",
    "print(scaled_data.shape)"
   ]
  },
  {
   "cell_type": "markdown",
   "metadata": {},
   "source": [
    "<div>\n",
    "        <p  style=\"font-family:Serif; font-size:17px;\">On divise les données comme suit : 70% pour l'entrainement et on laisse 30% pour le test </p>\n",
    "</div>"
   ]
  },
  {
   "cell_type": "code",
   "execution_count": 8,
   "metadata": {},
   "outputs": [],
   "source": [
    "# Division des données pour l'entrainement \n",
    "training_size = int(len(scaled_data) * 0.70)\n",
    "test_size = len(scaled_data) - training_size\n",
    "\n",
    "train_data = scaled_data[0:training_size,:]\n",
    "test_data = scaled_data[training_size:len(scaled_data),:]"
   ]
  },
  {
   "cell_type": "markdown",
   "metadata": {},
   "source": [
    "<div>\n",
    "    <p  style=\"font-family:Serif; font-size:17px;\">On créé une fonction qui va nous permettre de convertir un tableau de données en matrice de données :</p>\n",
    "</div>"
   ]
  },
  {
   "cell_type": "code",
   "execution_count": 9,
   "metadata": {},
   "outputs": [],
   "source": [
    "# fonction de Construction de dataset\n",
    "def construire(dataset, time_step=5):\n",
    "\tdataX, dataY = [], []\n",
    "\tfor i in range(len(dataset) - time_step-1):\n",
    "\t\ttmp = dataset[i:(i+time_step), 0]\n",
    "\t\tdataX.append(tmp)\n",
    "\t\tdataY.append(dataset[i + time_step, 0])\n",
    "\treturn np.array(dataX), np.array(dataY)"
   ]
  },
  {
   "cell_type": "markdown",
   "metadata": {},
   "source": [
    "<div>\n",
    "        <p  style=\"font-family:Serif; font-size:17px;\">La construction des données de tests et d'entraînements :</p>\n",
    "</div>"
   ]
  },
  {
   "cell_type": "code",
   "execution_count": 10,
   "metadata": {},
   "outputs": [],
   "source": [
    "# Construire data utilisé au niveau d'entrainement\n",
    "time_step = 30\n",
    "trainX, trainY = construire(train_data, time_step)\n",
    "\n",
    "trainY=trainY.reshape(-1,1)"
   ]
  },
  {
   "cell_type": "markdown",
   "metadata": {},
   "source": [
    "<div>\n",
    "    <h3 style=\"color:#3498db; font-family:Serif; font-size:22px;\">Algorithme de retro-propagation du gradient</h3>   \n",
    "    <p style=\"font-family:Serif; font-size:17px;\">Dans le but de resoudre le problème de prédiction du mouvement des prix dans l'indice S&P500, nous avons implémenté l'algorithme de retro-propagation du gradient qui est un algorithme d’optimisation permettant d’ajuster les paramètres d’un réseau de neurones multicouches pour mettre en correspondance des entrées et des sorties référencées dans une base d’apprentissage.\n",
    "        <br> Cet algorithme fonctionne selon les étapes suivantes :  </p>\n",
    "    <div style=\"display:flex\">\n",
    " <h3 style=\"color:##f39c12; margin-left:20px;\">1-</h3><p style=\"font-family:Serif; font-size:17px;\">Initialiser les paramètres libres du réseau (poids synaptiques et biais). </p>\n",
    "        </div>\n",
    "    <div style=\"display:flex\">\n",
    "    <h3 style=\"color:##f39c12; margin-left:20px;\">2-</h3>  <p style=\"font-family:Serif; font-size:17px;\"> Présenter un nouvel exemple avec la réponse disérée correspondante (les exemples de la base d'apprentissage sont présentés un par un). </p>\n",
    "        </div>\n",
    "       <div style=\"display:flex\">\n",
    "    <h3 style=\"color:##f39c12; margin-left:20px;\">3-</h3><p style=\"font-family:Serif; font-size:17px;\">   Calculer l'état actuel des neurones du réseau, par la propagation du flux d'activation de couche et dans le sens direct. </p>\n",
    "            </div>\n",
    "     <div style=\"display:flex\">\n",
    "    <h3 style=\"color:##f39c12; margin-left:20px;\">4-</h3>  <p style=\"font-family:Serif; font-size:17px;\">    Adaptation des paramètres libres du réseau, en tenant compte de la position du neurone dans le réseau et des valeurs courantes (instant t) des paramètres libre du réseau. </p>\n",
    "         </div>\n",
    "    <div style=\"display:flex\">\n",
    "    <h3 style=\"color:##f39c12; margin-left:20px;\">5-</h3>\n",
    "       <p style=\"font-family:Serif; font-size:17px;\">   Si le critère d'arret est atteint, stopper la procédure, si non, aller à l'étape 2. </p>\n",
    "    </div>\n",
    "</div>"
   ]
  },
  {
   "cell_type": "code",
   "execution_count": 11,
   "metadata": {},
   "outputs": [],
   "source": [
    "class MultiLayerPerceptron:\n",
    "    \n",
    "    def __init__(self, arch , alpha = 0.1):\n",
    "        # poids + biais\n",
    "        self.W = {}\n",
    "        self.B = {}\n",
    "        \n",
    "        # Taux d'adaptation\n",
    "        self.alpha = alpha\n",
    "        \n",
    "        # Architecture :nbre de couches et nombre de neurones par couche\n",
    "        self.arch = arch\n",
    "        \n",
    "        # Initialisation des poids: valeurs issues d'une distribution normale\n",
    "        for i in np.arange(1,len(self.arch)):\n",
    "            # Poids\n",
    "            w = np.random.randn(self.arch[i], self.arch[i-1])\n",
    "            self.W[i] = w/np.sqrt(self.arch[i])\n",
    "            # Bias\n",
    "            b = np.random.randn(self.arch[i],1)\n",
    "            self.B[i] = b/np.sqrt(self.arch[i])            \n",
    "            \n",
    "    def sigmoid(self, x):\n",
    "        return 1.0/(1 + np.exp(-x))\n",
    "    \n",
    "    def dsigmoid(self, x): # x correspond ici à sigmoid(uj(t)), voir le cours\n",
    "        return x * (1 - x)\n",
    "    \n",
    "     # Calcul et mémorisation de l'état de tous les neurones du réseau \n",
    "    def forward_pass(self, x):\n",
    "        a = np.atleast_2d(x).T\n",
    "        \n",
    "        stats = {}\n",
    "        stats[0] = a\n",
    "        for layer in np.arange(1, len(self.arch)):\n",
    "            a = self.sigmoid(np.dot(self.W[layer], a) + self.B[layer])\n",
    "            stats[layer] = a\n",
    "        return stats    \n",
    "    \n",
    "    # Sortie du réseau associée à une entrée X (les états des autres neurones ne sont pas mémorisés)\n",
    "    def predict(self, X):\n",
    "        a = np.atleast_2d(X).T\n",
    "        for layer in np.arange(1, len(self.arch)):\n",
    "            a = self.sigmoid(np.dot(self.W[layer], a) + self.B[layer])\n",
    "        return a\n",
    "    \n",
    "    # Calcul de l'erreur quadratique moyenne\n",
    "    def quadratic_loss(self, X, Y):\n",
    "        Y = np.atleast_2d(Y).T\n",
    "        predictions = self.predict(X)\n",
    "#         print(predictions)\n",
    "        n = X.shape[0]\n",
    "        loss = (1/n) * 0.5 * np.sum((predictions - Y) ** 2) \n",
    "        return loss \n",
    "    \n",
    "    # Calcul des gradients locaux \n",
    "    def compute_gradient(self, x, y):\n",
    "     \n",
    "        L = len(self.arch) - 1 # indice de la couche de sortie \n",
    "        # Gradients\n",
    "        Gw = {}\n",
    "        Gb = {}\n",
    "        A = self.forward_pass(x)\n",
    "        # Les vecteurs delta  \n",
    "        D = {}\n",
    "        y = np.atleast_2d(y).T\n",
    "        deltaL = (A[L] - y) * self.dsigmoid(A[L])\n",
    "        D[L] = deltaL # Pour la sortie \n",
    "        \n",
    "        # Calculer les vecteurs delta des autres couches en utilisants les vecteurs delta de la couche suivante\n",
    "        for l in np.arange(L-1, 0, -1):\n",
    "            D[l] = (self.W[l+1].T.dot(D[l+1])) * self.dsigmoid(A[l])\n",
    "        for l in np.arange(L, 0, -1):\n",
    "            Gb[l] = D[l]\n",
    "            Gw[l] = D[l].dot(A[l-1].T)        \n",
    "       \n",
    "        return (Gw, Gb)\n",
    "    \n",
    "    # Mise à jour par rapport à l'erreur moyenne (relative à un bloc d'exemples)\n",
    "    def update_with_bloc(self, bloc):\n",
    "      \n",
    "        m = len(bloc)\n",
    "        # Gradients locaux\n",
    "        GCw = {}\n",
    "        GCb = {}\n",
    "        # Initialiser à zeros \n",
    "        for i in np.arange(1,len(self.arch)):\n",
    "            GCw[i] = np.zeros(self.W[i].shape)\n",
    "            GCb[i] = np.zeros(self.B[i].shape)\n",
    "            \n",
    "        # Calcul des gradients\n",
    "        for x, y in bloc:\n",
    "            Gw, Gb = self.compute_gradient(x, y)\n",
    "            for i in np.arange(1,len(self.arch)): \n",
    "                GCw[i] += Gw[i]\n",
    "                GCb[i] += Gb[i]\n",
    "                \n",
    "        # Mettre à jour les poids \n",
    "        for l in np.arange(1,len(self.arch)):\n",
    "            self.W[l] = self.W[l] - (self.alpha/m)*(GCw[l])\n",
    "            self.B[l] = self.B[l] - (self.alpha/m)*(GCb[l])\n",
    "    \n",
    "    # Iteration: entrainement en utilisant tous les exemples, un bloc de taille bloc_size chaque fois\n",
    "    def train(self, D, bloc_size):\n",
    "        train_size = len(D) #size = 881\n",
    "        np.random.shuffle(D) # tirage au sort\n",
    "        blocs = [D[k : k + bloc_size] # Bloc d'exemples\n",
    "            for k in range(0, train_size, bloc_size)]\n",
    "        \n",
    "        for bloc in blocs: # Mise à jour suite au passage de chaque bloc\n",
    "            self.update_with_bloc(bloc)\n",
    "  \n",
    "    # Apprentissage\n",
    "    # X: trainX & Y: trainY\n",
    "    def fit(self, X, Y, bloc_size = 20, iterations = 10000, error_min = 0.001, displayPeriod = 5000):\n",
    "     \n",
    "        # Exemples avec X et Y Assemblés\n",
    "        D = list(zip(X,Y))\n",
    "        \n",
    "        # Erreurs\n",
    "        errors = [self.quadratic_loss(X,Y)]   # Erreur initiale    \n",
    "        \n",
    "        iter = 0\n",
    "        print(\"Itération: {}-{}, Erreur: {:.6f}\".format(iter, iterations,errors[iter]))\n",
    "        while iter < iterations and errors[iter] > error_min: # Tour de boucle \n",
    "            \n",
    "            self.train(D, bloc_size)  # Mettre à jour \n",
    "            errors.append(self.quadratic_loss(X,Y))         # Nouvelle erreur\n",
    "          \n",
    "            if (iter+1) % displayPeriod == 0:\n",
    "                print(\"Itération: {}-{}, Erreur: {:.6f}\".format(iter + 1, iterations,errors[iter]))\n",
    "            iter += 1\n",
    "        \n",
    "        if errors[iter] < error_min: # Erreur inférieur à la valeur minimale\n",
    "            print(\"Fin: erreur minimale atteinte : {:.6f}.\", errors[iter])\n",
    "        elif iter == iterations:\n",
    "            print(\"Fin: nombre maximum d'itérations atteint.\")\n",
    "       \n",
    "        return (errors, iter)"
   ]
  },
  {
   "cell_type": "markdown",
   "metadata": {},
   "source": [
    "<div>\n",
    "        <p  style=\"font-family:Serif; font-size:17px;\">L'initialisation de la classe <b>MultiLayerPerceptron</b> et l'apprentissage en appelant la méthode <b>fit</b> :</p>\n",
    "</div>"
   ]
  },
  {
   "cell_type": "code",
   "execution_count": 12,
   "metadata": {
    "scrolled": true
   },
   "outputs": [
    {
     "name": "stdout",
     "output_type": "stream",
     "text": [
      "Itération: 0-1000, Erreur: 0.169376\n",
      "Itération: 20-1000, Erreur: 0.005301\n",
      "Itération: 40-1000, Erreur: 0.003215\n",
      "Itération: 60-1000, Erreur: 0.001826\n",
      "Itération: 80-1000, Erreur: 0.001087\n",
      "Itération: 100-1000, Erreur: 0.000806\n",
      "Itération: 120-1000, Erreur: 0.000709\n",
      "Itération: 140-1000, Erreur: 0.000634\n",
      "Itération: 160-1000, Erreur: 0.000593\n",
      "Itération: 180-1000, Erreur: 0.000561\n",
      "Itération: 200-1000, Erreur: 0.000540\n",
      "Itération: 220-1000, Erreur: 0.000509\n",
      "Itération: 240-1000, Erreur: 0.000497\n",
      "Itération: 260-1000, Erreur: 0.000470\n",
      "Itération: 280-1000, Erreur: 0.000456\n",
      "Itération: 300-1000, Erreur: 0.000442\n",
      "Itération: 320-1000, Erreur: 0.000430\n",
      "Itération: 340-1000, Erreur: 0.000423\n",
      "Itération: 360-1000, Erreur: 0.000420\n",
      "Itération: 380-1000, Erreur: 0.000404\n",
      "Itération: 400-1000, Erreur: 0.000398\n",
      "Itération: 420-1000, Erreur: 0.000391\n",
      "Itération: 440-1000, Erreur: 0.000388\n",
      "Itération: 460-1000, Erreur: 0.000385\n",
      "Itération: 480-1000, Erreur: 0.000381\n",
      "Itération: 500-1000, Erreur: 0.000376\n",
      "Itération: 520-1000, Erreur: 0.000381\n",
      "Itération: 540-1000, Erreur: 0.000371\n",
      "Itération: 560-1000, Erreur: 0.000359\n",
      "Itération: 580-1000, Erreur: 0.000354\n",
      "Itération: 600-1000, Erreur: 0.000352\n",
      "Itération: 620-1000, Erreur: 0.000348\n",
      "Itération: 640-1000, Erreur: 0.000345\n",
      "Itération: 660-1000, Erreur: 0.000342\n",
      "Itération: 680-1000, Erreur: 0.000342\n",
      "Itération: 700-1000, Erreur: 0.000337\n",
      "Itération: 720-1000, Erreur: 0.000338\n",
      "Itération: 740-1000, Erreur: 0.000343\n",
      "Itération: 760-1000, Erreur: 0.000332\n",
      "Itération: 780-1000, Erreur: 0.000325\n",
      "Itération: 800-1000, Erreur: 0.000325\n",
      "Itération: 820-1000, Erreur: 0.000335\n",
      "Itération: 840-1000, Erreur: 0.000318\n",
      "Itération: 860-1000, Erreur: 0.000318\n",
      "Itération: 880-1000, Erreur: 0.000314\n",
      "Itération: 900-1000, Erreur: 0.000313\n",
      "Itération: 920-1000, Erreur: 0.000310\n",
      "Itération: 940-1000, Erreur: 0.000307\n",
      "Itération: 960-1000, Erreur: 0.000317\n",
      "Itération: 980-1000, Erreur: 0.000305\n",
      "Itération: 1000-1000, Erreur: 0.000301\n",
      "Fin: nombre maximum d'itérations atteint.\n"
     ]
    }
   ],
   "source": [
    "# Initialisation et apprentissage\n",
    "pmc = MultiLayerPerceptron(arch=[trainX.shape[1],15,15,1], alpha=0.1)\n",
    "(errs, iter_fin) = pmc.fit(trainX, trainY, iterations=1000, bloc_size=5, error_min=0.00001, displayPeriod=20)"
   ]
  },
  {
   "cell_type": "markdown",
   "metadata": {},
   "source": [
    "<div>\n",
    "        <p  style=\"font-family:Serif; font-size:17px;\">La visualisation d'erreur en fonction de nombre d'iteration effectuées :</p>\n",
    "</div>"
   ]
  },
  {
   "cell_type": "code",
   "execution_count": 13,
   "metadata": {
    "scrolled": true
   },
   "outputs": [
    {
     "data": {
      "image/png": "[encoded data removed]",
      "text/plain": [
       "<Figure size 576x360 with 1 Axes>"
      ]
     },
     "metadata": {
      "needs_background": "light"
     },
     "output_type": "display_data"
    }
   ],
   "source": [
    "# Visualisation d'erreur en fonction de nombre d'iteration effectuée\n",
    "iters = np.arange(0, iter_fin + 1)\n",
    "\n",
    "rcParams['figure.figsize'] = 8,5\n",
    "plt.plot(iters, errs)\n",
    "plt.show()"
   ]
  },
  {
   "cell_type": "markdown",
   "metadata": {},
   "source": [
    "<div>\n",
    "    <h2 style=\"font-family:Serif; color:##f39c12; font-size:27px; margin-bottom:0\">3 - Prédiction des données et le test :</h2>\n",
    "</div>"
   ]
  },
  {
   "cell_type": "markdown",
   "metadata": {},
   "source": [
    "<div>\n",
    "        <p  style=\"font-family:Serif; font-size:17px;\">La construction des données utilisées lors du test :</p>\n",
    "</div>"
   ]
  },
  {
   "cell_type": "code",
   "execution_count": 14,
   "metadata": {},
   "outputs": [],
   "source": [
    "# Test\n",
    "data = scaled_data[len(scaled_data) - test_size - 30:]\n",
    "data = data.reshape(-1,1)"
   ]
  },
  {
   "cell_type": "markdown",
   "metadata": {},
   "source": [
    "<div>\n",
    "        <p  style=\"font-family:Serif; font-size:17px;\">Création du testX : </p>\n",
    "</div>"
   ]
  },
  {
   "cell_type": "code",
   "execution_count": 15,
   "metadata": {},
   "outputs": [],
   "source": [
    "testX = []\n",
    "step = 30\n",
    "\n",
    "for i in range(step, data.shape[0]):\n",
    "    testX.append(data[i-step:i, 0])\n",
    "\n",
    "testX = np.array(testX)"
   ]
  },
  {
   "cell_type": "markdown",
   "metadata": {},
   "source": [
    "<div>\n",
    "        <p  style=\"font-family:Serif; font-size:17px;\">Commençons la prédiction :</p>\n",
    "</div>"
   ]
  },
  {
   "cell_type": "code",
   "execution_count": 16,
   "metadata": {},
   "outputs": [],
   "source": [
    "# prediction\n",
    "test_predict = pmc.predict(testX) "
   ]
  },
  {
   "cell_type": "markdown",
   "metadata": {},
   "source": [
    "<div>\n",
    "        <p  style=\"font-family:Serif; font-size:17px;\">On inverse l'échelle des données prédies :</p>\n",
    "</div>"
   ]
  },
  {
   "cell_type": "code",
   "execution_count": 17,
   "metadata": {},
   "outputs": [],
   "source": [
    "# Inverser la mise a l'echelle\n",
    "test_predict=scaler.inverse_transform(test_predict)"
   ]
  },
  {
   "cell_type": "code",
   "execution_count": 18,
   "metadata": {},
   "outputs": [],
   "source": [
    "test_predict = np.array(test_predict)\n",
    "test_predict = test_predict.reshape(-1,1)"
   ]
  },
  {
   "cell_type": "markdown",
   "metadata": {},
   "source": [
    "<div>\n",
    "        <p  style=\"font-family:Serif; font-size:17px;\">La visualisation du graphe qui montre les indices prédies et les index exactes :</p>\n",
    "</div>"
   ]
  },
  {
   "cell_type": "code",
   "execution_count": 19,
   "metadata": {},
   "outputs": [
    {
     "data": {
      "text/plain": [
       "[<matplotlib.lines.Line2D at 0x1f7a15bfaf0>,\n",
       " <matplotlib.lines.Line2D at 0x1f7a15bfbb0>]"
      ]
     },
     "execution_count": 19,
     "metadata": {},
     "output_type": "execute_result"
    },
    {
     "data": {
      "image/png": "[encoded data removed]",
      "text/plain": [
       "<Figure size 1440x720 with 1 Axes>"
      ]
     },
     "metadata": {
      "needs_background": "light"
     },
     "output_type": "display_data"
    }
   ],
   "source": [
    "dt = copie[['Close']]\n",
    "train_data = dt[:training_size]\n",
    "test_data = dt.iloc[training_size:,:]\n",
    "\n",
    "# Inserer la colonne prediction pour l'afficher sur le graphe\n",
    "test_data.insert(1, \"Prediction\",test_predict)\n",
    "\n",
    "\n",
    "# Visualisation de la valeur exacte et la prediction\n",
    "rcParams['figure.figsize'] = 20,10\n",
    "plt.plot(train_data)\n",
    "plt.plot(test_data[[\"Prediction\",\"Close\"]])"
   ]
  },
  {
   "cell_type": "markdown",
   "metadata": {},
   "source": [
    "<div>\n",
    "    <h3 style=\"color:#3498db; font-family:Serif; font-size:22px;\">Remarque :</h3>\n",
    "        <p  style=\"font-family:Serif; font-size:17px;\">Plus qu'on augmente le nombre de neurones plus qu'on approche de la valeur exacte. </p>\n",
    "</div>"
   ]
  },
  {
   "cell_type": "markdown",
   "metadata": {},
   "source": [
    "<div>\n",
    "    <h2 style=\"font-family:Serif; color:##f39c12; font-size:27px; margin-bottom:0\">Conclusion: </h2>\n",
    "        <p  style=\"font-family:Serif; font-size:17px;\">Une bonne prévision d’indices boursiers nécessite un ensemble de données importante et un suivi de l’évolution de la réglementation boursière. Les réseaux de neurones ont montré leur force et leur performance au niveau de prédiction dans le phénomène de financement et de prévision d’indices boursiers.</p>\n",
    "</div>"
   ]
  },
  {
   "cell_type": "code",
   "execution_count": null,
   "metadata": {},
   "outputs": [],
   "source": []
  }
 ],
 "metadata": {
  "kernelspec": {
   "display_name": "Python 3",
   "language": "python",
   "name": "python3"
  },
  "language_info": {
   "codemirror_mode": {
    "name": "ipython",
    "version": 3
   },
   "file_extension": ".py",
   "mimetype": "text/x-python",
   "name": "python",
   "nbconvert_exporter": "python",
   "pygments_lexer": "ipython3",
   "version": "3.8.5"
  }
 },
 "nbformat": 4,
 "nbformat_minor": 4
}
